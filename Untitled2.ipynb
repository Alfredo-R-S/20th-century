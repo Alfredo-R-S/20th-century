{
 "cells": [
  {
   "cell_type": "markdown",
   "id": "9eaff0c6-0c57-4072-80e5-76f1dbbe8275",
   "metadata": {},
   "source": [
    "# 20th Century NLP and Network Analysis Task"
   ]
  },
  {
   "cell_type": "code",
   "execution_count": null,
   "id": "c749a0ae-0e83-42f3-8a30-c5455db3a55c",
   "metadata": {},
   "outputs": [],
   "source": []
  }
 ],
 "metadata": {
  "kernelspec": {
   "display_name": "Python [conda env:20th_century]",
   "language": "python",
   "name": "conda-env-20th_century-py"
  },
  "language_info": {
   "codemirror_mode": {
    "name": "ipython",
    "version": 3
   },
   "file_extension": ".py",
   "mimetype": "text/x-python",
   "name": "python",
   "nbconvert_exporter": "python",
   "pygments_lexer": "ipython3",
   "version": "3.10.16"
  }
 },
 "nbformat": 4,
 "nbformat_minor": 5
}
