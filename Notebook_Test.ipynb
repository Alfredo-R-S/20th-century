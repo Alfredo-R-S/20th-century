{
 "cells": [
  {
   "cell_type": "markdown",
   "id": "e303fdbe-c411-453b-93e1-ee87e65b14f8",
   "metadata": {},
   "source": [
    "# 20th Century Notebook Test"
   ]
  },
  {
   "cell_type": "code",
   "execution_count": 2,
   "id": "d5f43804-9e4e-4099-a946-0cead7e77909",
   "metadata": {},
   "outputs": [],
   "source": [
    "# Basic text and code in local repo to be pushed to the remote repo in GitHub"
   ]
  },
  {
   "cell_type": "code",
   "execution_count": 4,
   "id": "53219591-cc2b-4265-b72f-d98d8822354a",
   "metadata": {},
   "outputs": [],
   "source": [
    "x = 4\n",
    "y = 3"
   ]
  },
  {
   "cell_type": "code",
   "execution_count": 6,
   "id": "c56f0fa7-c6ee-4e98-8dc5-b38e3bc25203",
   "metadata": {},
   "outputs": [
    {
     "data": {
      "text/plain": [
       "7"
      ]
     },
     "execution_count": 6,
     "metadata": {},
     "output_type": "execute_result"
    }
   ],
   "source": [
    "x + y"
   ]
  },
  {
   "cell_type": "code",
   "execution_count": null,
   "id": "5c292ba4-c7f8-4c5f-8e3c-c5e62de47f0b",
   "metadata": {},
   "outputs": [],
   "source": []
  }
 ],
 "metadata": {
  "kernelspec": {
   "display_name": "Python [conda env:base] *",
   "language": "python",
   "name": "conda-base-py"
  },
  "language_info": {
   "codemirror_mode": {
    "name": "ipython",
    "version": 3
   },
   "file_extension": ".py",
   "mimetype": "text/x-python",
   "name": "python",
   "nbconvert_exporter": "python",
   "pygments_lexer": "ipython3",
   "version": "3.12.7"
  }
 },
 "nbformat": 4,
 "nbformat_minor": 5
}
